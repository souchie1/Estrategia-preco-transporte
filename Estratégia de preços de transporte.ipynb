{
 "cells": [
  {
   "cell_type": "code",
   "execution_count": null,
   "id": "c269351c",
   "metadata": {},
   "outputs": [],
   "source": [
    "import pandas as pd\n",
    "import plotly.express as px\n",
    "import plotly.graph_objects as go\n",
    "import matplotlib.pyplot as plt\n",
    "import seaborn as sns\n",
    "import numpy as np"
   ]
  },
  {
   "cell_type": "code",
   "execution_count": null,
   "id": "821b328d",
   "metadata": {},
   "outputs": [],
   "source": [
    "df = pd.read_csv(dynamic_pricing.csv')\n",
    "df.head()"
   ]
  },
  {
   "cell_type": "code",
   "execution_count": null,
   "id": "37b9404f",
   "metadata": {},
   "outputs": [],
   "source": [
    "# Criar um dicionário de tradução\n",
    "colunas = {\n",
    "    'Number_of_Riders': 'Número_de_Passageiros',\n",
    "    'Number_of_Drivers': 'Número_de_Motoristas',\n",
    "    'Location_Category': 'Categoria_de_Localização',\n",
    "    'Customer_Loyalty_Status': 'Status_de_Lealdade_do_Cliente',\n",
    "    'Number_of_Past_Rides': 'Número_de_Viagens_Anteriores',\n",
    "    'Average_Ratings': 'Avaliações_Médias',\n",
    "    'Time_of_Booking': 'Horário_da_Reserva',\n",
    "    'Vehicle_Type': 'Tipo_de_Veículo',\n",
    "    'Expected_Ride_Duration': 'Duração_Estimada_da_Viagem',\n",
    "    'Historical_Cost_of_Ride': 'Custo_Histórico_da_Viagem'\n",
    "}\n",
    "\n",
    "# Renomear as colunas inplace\n",
    "df.rename(columns=colunas, inplace=True)"
   ]
  },
  {
   "cell_type": "code",
   "execution_count": null,
   "id": "f6747ca7",
   "metadata": {},
   "outputs": [],
   "source": [
    "df.head()"
   ]
  },
  {
   "cell_type": "code",
   "execution_count": null,
   "id": "40522b28",
   "metadata": {},
   "outputs": [],
   "source": [
    "df.tail()"
   ]
  },
  {
   "cell_type": "code",
   "execution_count": null,
   "id": "3f923fa5",
   "metadata": {},
   "outputs": [],
   "source": [
    "df.shape"
   ]
  },
  {
   "cell_type": "code",
   "execution_count": null,
   "id": "270f164d",
   "metadata": {},
   "outputs": [],
   "source": [
    "df.isnull().sum()"
   ]
  },
  {
   "cell_type": "code",
   "execution_count": null,
   "id": "0d4ff63d",
   "metadata": {},
   "outputs": [],
   "source": [
    "df.info()"
   ]
  },
  {
   "cell_type": "code",
   "execution_count": null,
   "id": "78bcb750",
   "metadata": {},
   "outputs": [],
   "source": [
    "df.describe()"
   ]
  },
  {
   "cell_type": "code",
   "execution_count": null,
   "id": "e88d2dd2",
   "metadata": {},
   "outputs": [],
   "source": [
    "# Inicializar listas para armazenar as colunas categóricas e numéricas\n",
    "colunas_categoricas = []\n",
    "colunas_numericas = []\n",
    "\n",
    "# Iterar sobre as colunas do DataFrame\n",
    "for coluna in df.columns:\n",
    "    if pd.api.types.is_categorical_dtype(df[coluna]):\n",
    "        colunas_categoricas.append(coluna)\n",
    "    elif pd.api.types.is_numeric_dtype(df[coluna]):\n",
    "        colunas_numericas.append(coluna)\n",
    "        \n"
   ]
  },
  {
   "cell_type": "code",
   "execution_count": null,
   "id": "3acf3113",
   "metadata": {},
   "outputs": [],
   "source": [
    "# Criar DataFrame para colunas categóricas\n",
    "df_categorico = df.loc[:, colunas_categoricas]\n",
    "\n",
    "# Criar DataFrame para colunas numéricas\n",
    "df_numerico = df.loc[:, colunas_numericas]"
   ]
  },
  {
   "cell_type": "code",
   "execution_count": null,
   "id": "555f1a80",
   "metadata": {},
   "outputs": [],
   "source": [
    "df_numerico"
   ]
  },
  {
   "cell_type": "code",
   "execution_count": null,
   "id": "1f3da1b5",
   "metadata": {},
   "outputs": [],
   "source": [
    "df_categorico"
   ]
  },
  {
   "cell_type": "code",
   "execution_count": null,
   "id": "3c588eeb",
   "metadata": {},
   "outputs": [],
   "source": [
    "mediana = df_numerico.median()\n",
    "mediana"
   ]
  },
  {
   "cell_type": "code",
   "execution_count": null,
   "id": "a4f64d2e",
   "metadata": {},
   "outputs": [],
   "source": []
  },
  {
   "cell_type": "code",
   "execution_count": null,
   "id": "0592ddfb",
   "metadata": {},
   "outputs": [],
   "source": [
    "# Selecionar apenas as colunas numéricas\n",
    "df_numericas = df[colunas_numericas]\n",
    "\n",
    "# Calcular a matriz de correlação\n",
    "matriz_correlacao = df_numericas.corr()\n",
    "matriz_correlacao "
   ]
  },
  {
   "cell_type": "code",
   "execution_count": null,
   "id": "1ab0f19e",
   "metadata": {},
   "outputs": [],
   "source": [
    "# Calcular a matriz de correlação\n",
    "correlation_matrix = df_numericas.corr()\n",
    "\n",
    "# Configurar o tamanho da figura\n",
    "plt.figure(figsize=(10, 8))\n",
    "\n",
    "# Plotar o gráfico de calor da matriz de correlação\n",
    "sns.heatmap(correlation_matrix, annot=True, cmap='coolwarm', fmt=\".2f\", linewidths=0.5)\n",
    "\n",
    "# Adicionar título ao gráfico\n",
    "plt.title('Matriz de Correlação')\n",
    "\n",
    "# Mostrar o gráfico\n",
    "plt.show()"
   ]
  },
  {
   "cell_type": "code",
   "execution_count": null,
   "id": "6a01dead",
   "metadata": {},
   "outputs": [],
   "source": [
    "# Gráfico de dispersão para avaliações médias em relação ao número de passageiros\n",
    "plt.figure(figsize=(8, 6))\n",
    "sns.scatterplot(data=df, x='Número_de_Passageiros', y='Avaliações_Médias')\n",
    "plt.title('Gráfico de Dispersão: Avaliações Médias vs. Número de Passageiros')\n",
    "plt.xlabel('Número de Passageiros')\n",
    "plt.ylabel('Avaliações Médias')\n",
    "plt.show()\n",
    "\n",
    "# Boxplot para avaliações médias em relação ao número de viagens anteriores\n",
    "plt.figure(figsize=(8, 6))\n",
    "sns.boxplot(data=df, x='Número_de_Viagens_Anteriores', y='Avaliações_Médias')\n",
    "plt.title('Boxplot: Avaliações Médias por Número de Viagens Anteriores')\n",
    "plt.xlabel('Número de Viagens Anteriores')\n",
    "plt.ylabel('Avaliações Médias')\n",
    "plt.show()"
   ]
  },
  {
   "cell_type": "code",
   "execution_count": null,
   "id": "0ad9f38d",
   "metadata": {},
   "outputs": [],
   "source": [
    "# Configurar o tamanho da figura\n",
    "plt.figure(figsize=(12, 5))\n",
    "\n",
    "# Plotar o histograma da duração estimada da viagem\n",
    "plt.subplot(1, 2, 1)\n",
    "sns.histplot(df['Duração_Estimada_da_Viagem'], bins=20, kde=True, color='skyblue')\n",
    "plt.title('Distribuição da Duração Estimada da Viagem')\n",
    "plt.xlabel('Duração Estimada da Viagem')\n",
    "\n",
    "# Plotar o gráfico de densidade do custo histórico da viagem\n",
    "plt.subplot(1, 2, 2)\n",
    "sns.kdeplot(df['Custo_Histórico_da_Viagem'], shade=True, color='salmon')\n",
    "plt.title('Distribuição do Custo Histórico da Viagem')\n",
    "plt.xlabel('Custo Histórico da Viagem')\n",
    "\n",
    "# Ajustar o layout\n",
    "plt.tight_layout()\n",
    "\n",
    "# Mostrar os gráficos\n",
    "plt.show()"
   ]
  },
  {
   "cell_type": "code",
   "execution_count": null,
   "id": "18440e37",
   "metadata": {},
   "outputs": [],
   "source": [
    "# Configurar o tamanho da figura\n",
    "plt.figure(figsize=(8, 6))\n",
    "\n",
    "# Plotar o gráfico de dispersão da duração estimada da viagem vs. custo histórico da viagem\n",
    "sns.scatterplot(data=df, x='Duração_Estimada_da_Viagem', y='Custo_Histórico_da_Viagem', color='blue', alpha=0.5)\n",
    "plt.title('Duração Estimada da Viagem vs. Custo Histórico da Viagem')\n",
    "plt.xlabel('Duração Estimada da Viagem')\n",
    "plt.ylabel('Custo Histórico da Viagem')\n",
    "\n",
    "# Mostrar o gráfico\n",
    "plt.grid(True)\n",
    "plt.tight_layout()\n",
    "plt.show()"
   ]
  },
  {
   "cell_type": "code",
   "execution_count": null,
   "id": "9a4de8d9",
   "metadata": {},
   "outputs": [],
   "source": [
    "df.columns"
   ]
  },
  {
   "cell_type": "code",
   "execution_count": null,
   "id": "c4ef42a7",
   "metadata": {},
   "outputs": [],
   "source": [
    "# Percentis para alta e baixa demanda\n",
    "percentil_alta_demanda = 75\n",
    "percentil_baixa_demanda = 25\n",
    "\n",
    "# Calculando multiplicador de demanda\n",
    "df['multiplicador_demanda'] = np.where(df['Número_de_Passageiros'] > np.percentile(df['Número_de_Passageiros'], percentil_alta_demanda),\n",
    "                                        df['Número_de_Passageiros'] / np.percentile(df['Número_de_Passageiros'], percentil_alta_demanda),\n",
    "                                        df['Número_de_Passageiros'] / np.percentile(df['Número_de_Passageiros'], percentil_baixa_demanda))\n",
    "\n",
    "# Percentis para alta e baixa oferta\n",
    "percentil_alta_oferta = 75\n",
    "percentil_baixa_oferta = 25\n",
    "\n",
    "# Calculando multiplicador de oferta\n",
    "df['multiplicador_oferta'] = np.where(df['Número_de_Motoristas'] > np.percentile(df['Número_de_Motoristas'], percentil_baixa_oferta),\n",
    "                                       np.percentile(df['Número_de_Motoristas'], percentil_alta_oferta) / df['Número_de_Motoristas'],\n",
    "                                       np.percentile(df['Número_de_Motoristas'], percentil_baixa_oferta) / df['Número_de_Motoristas'])\n",
    "\n",
    "# Fatores de ajuste de preço para alta e baixa demanda/oferta\n",
    "limite_demanda_alta = 1.2  # Limite de demanda alta\n",
    "limite_demanda_baixa = 0.8   # Limite de demanda baixa\n",
    "limite_oferta_alta = 0.8  # Limite de oferta alta\n",
    "limite_oferta_baixa = 1.2   # Limite de oferta baixa\n",
    "\n",
    "# Calculando custo ajustado da viagem para precificação dinâmica\n",
    "df['custo_viagem_ajustado'] = df['Custo_Histórico_da_Viagem'] * (\n",
    "    np.maximum(df['multiplicador_demanda'], limite_demanda_baixa) *\n",
    "    np.maximum(df['multiplicador_oferta'], limite_oferta_alta)\n",
    ")"
   ]
  },
  {
   "cell_type": "code",
   "execution_count": null,
   "id": "d4e538d6",
   "metadata": {},
   "outputs": [],
   "source": [
    "import plotly.graph_objects as go\n",
    "\n",
    "# Calcular a porcentagem de lucro\n",
    "df['porcentagem_lucro'] = ((df['custo_viagem_ajustado'] - df['Custo_Histórico_da_Viagem']) / df['Custo_Histórico_da_Viagem']) * 100\n",
    "\n",
    "# Identificar viagens lucrativas onde a porcentagem de lucro é positiva\n",
    "viagens_lucrativas = df[df['porcentagem_lucro'] > 0]\n",
    "\n",
    "# Identificar viagens com prejuízo onde a porcentagem de lucro é negativa\n",
    "viagens_prejuizo = df[df['porcentagem_lucro'] < 0]\n",
    "\n",
    "# Calcular o número de viagens lucrativas e com prejuízo\n",
    "contagem_lucrativas = len(viagens_lucrativas)\n",
    "contagem_prejuizo = len(viagens_prejuizo)\n",
    "\n",
    "# Criar um gráfico de rosca para mostrar a distribuição de viagens lucrativas e com prejuízo\n",
    "rótulos = ['Viagens Lucrativas', 'Viagens com Prejuízo']\n",
    "valores = [contagem_lucrativas, contagem_prejuizo]\n",
    "\n",
    "figura = go.Figure(data=[go.Pie(labels=rótulos, values=valores, hole=0.4)])\n",
    "figura.update_layout(title='Rentabilidade das Viagens (Precificação Dinâmica vs. Precificação Histórica)')\n",
    "figura.show()\n"
   ]
  },
  {
   "cell_type": "code",
   "execution_count": null,
   "id": "99e0239a",
   "metadata": {},
   "outputs": [],
   "source": [
    "import plotly.express as px\n",
    "\n",
    "# Gráfico de dispersão com linha de tendência (OLS)\n",
    "fig = px.scatter(df, \n",
    "                 x='Duração_Estimada_da_Viagem', \n",
    "                 y='Custo_Histórico_da_Viagem',\n",
    "                 title='Duração Estimada da Viagem vs. Custo Histórico da Viagem', \n",
    "                 trendline='ols')\n",
    "fig.show()\n"
   ]
  },
  {
   "cell_type": "code",
   "execution_count": null,
   "id": "f827ce23",
   "metadata": {},
   "outputs": [],
   "source": [
    "from sklearn.cluster import KMeans\n",
    "from sklearn.preprocessing import StandardScaler\n",
    "import matplotlib.pyplot as plt\n",
    "\n",
    "# Selecionar as características relevantes para o clustering\n",
    "caracteristicas = ['Número_de_Viagens_Anteriores', 'Avaliações_Médias', 'Duração_Estimada_da_Viagem', 'Custo_Histórico_da_Viagem']\n",
    "\n",
    "# Criar um DataFrame apenas com as características selecionadas\n",
    "dados_cluster = df[caracteristicas]\n",
    "\n",
    "# Padronizar os dados para que todas as características tenham a mesma escala\n",
    "scaler = StandardScaler()\n",
    "dados_cluster_normalizados = scaler.fit_transform(dados_cluster)\n",
    "\n",
    "# Escolher o número de clusters (grupos de clientes) - você pode ajustar esse valor conforme necessário\n",
    "n_clusters = 4\n",
    "\n",
    "# Instanciar o modelo de K-means com o número de clusters desejado\n",
    "kmeans = KMeans(n_clusters=n_clusters, random_state=42)\n",
    "\n",
    "# Aplicar o algoritmo de clustering aos dados\n",
    "kmeans.fit(dados_cluster_normalizados)\n",
    "\n",
    "# Adicionar os rótulos dos clusters aos dados originais\n",
    "df['Cluster'] = kmeans.labels_\n",
    "\n",
    "# Visualizar os clusters em relação às características\n",
    "for feature in caracteristicas:\n",
    "    plt.figure(figsize=(8, 5))\n",
    "    for cluster in range(n_clusters):\n",
    "        plt.hist(df[df['Cluster'] == cluster][feature], alpha=0.5, label=f'Cluster {cluster}')\n",
    "    plt.title(f'Distribuição de {feature} por Cluster')\n",
    "    plt.xlabel(feature)\n",
    "    plt.ylabel('Frequência')\n",
    "    plt.legend()\n",
    "    plt.show()\n"
   ]
  },
  {
   "cell_type": "code",
   "execution_count": null,
   "id": "617a0090",
   "metadata": {},
   "outputs": [],
   "source": [
    "from sklearn.linear_model import LinearRegression\n",
    "from sklearn.model_selection import train_test_split\n",
    "from sklearn.compose import ColumnTransformer\n",
    "from sklearn.preprocessing import OneHotEncoder, StandardScaler\n",
    "import pandas as pd\n",
    "\n",
    "# Selecionar todas as características, exceto a variável alvo (por exemplo, 'Custo_Histórico_da_Viagem')\n",
    "X = df.drop('Custo_Histórico_da_Viagem', axis=1)\n",
    "\n",
    "# Selecionar a variável alvo\n",
    "y = df['Custo_Histórico_da_Viagem']\n",
    "\n",
    "# Dividir os dados em conjuntos de treinamento e teste\n",
    "X_train, X_test, y_train, y_test = train_test_split(X, y, test_size=0.2, random_state=42)\n",
    "\n",
    "# Criar uma lista de índices das colunas categóricas\n",
    "categorical_columns = ['Categoria_de_Localização', 'Status_de_Lealdade_do_Cliente', 'Horário_da_Reserva', 'Tipo_de_Veículo']\n",
    "\n",
    "# Criar um transformador para aplicar codificação one-hot nas colunas categóricas\n",
    "preprocessor = ColumnTransformer(\n",
    "    transformers=[\n",
    "        ('onehot', OneHotEncoder(), categorical_columns)\n",
    "    ],\n",
    "    remainder='passthrough'\n",
    ")\n",
    "\n",
    "# Aplicar o pré-processamento\n",
    "X_train_transformed = preprocessor.fit_transform(X_train)\n",
    "X_test_transformed = preprocessor.transform(X_test)\n",
    "\n",
    "# Instanciar o modelo de regressão linear\n",
    "modelo_regressao = LinearRegression()\n",
    "\n",
    "# Treinar o modelo com os dados de treinamento\n",
    "modelo_regressao.fit(X_train_transformed, y_train)\n",
    "\n",
    "# Fazer previsões usando os dados de teste\n",
    "previsoes = modelo_regressao.predict(X_test_transformed)\n",
    "\n",
    "# Avaliar o desempenho do modelo\n",
    "from sklearn.metrics import mean_squared_error, r2_score\n",
    "\n",
    "mse = mean_squared_error(y_test, previsoes)\n",
    "r2 = r2_score(y_test, previsoes)\n",
    "\n",
    "print(\"Erro Quadrático Médio (MSE):\", mse)\n",
    "print(\"Coeficiente de Determinação (R²):\", r2)\n"
   ]
  },
  {
   "cell_type": "code",
   "execution_count": null,
   "id": "4168e726",
   "metadata": {},
   "outputs": [],
   "source": [
    "# Calcular o índice de satisfação do cliente com base nas Avaliações Médias\n",
    "indice_satisfacao = df['Avaliações_Médias'].mean()\n",
    "\n",
    "print(\"Índice de Satisfação do Cliente com base nas Avaliações Médias:\", indice_satisfacao)\n"
   ]
  },
  {
   "cell_type": "code",
   "execution_count": null,
   "id": "ef0d225c",
   "metadata": {},
   "outputs": [],
   "source": [
    "from sklearn.model_selection import train_test_split\n",
    "from sklearn.linear_model import LinearRegression\n",
    "from sklearn.metrics import mean_squared_error\n",
    "\n",
    "# Dividir os dados em conjuntos de treinamento e teste\n",
    "X = df[['Número_de_Viagens_Anteriores', 'Avaliações_Médias', 'Duração_Estimada_da_Viagem', 'Custo_Histórico_da_Viagem']]\n",
    "y = df['Avaliações_Médias']  # Suponha que 'Satisfação_do_Cliente' seja a variável alvo\n",
    "X_train, X_test, y_train, y_test = train_test_split(X, y, test_size=0.2, random_state=42)\n",
    "\n",
    "# Instanciar o modelo de regressão linear\n",
    "modelo = LinearRegression()\n",
    "\n",
    "# Treinar o modelo com os dados de treinamento\n",
    "modelo.fit(X_train, y_train)\n",
    "\n",
    "# Fazer previsões usando os dados de teste\n",
    "previsoes = modelo.predict(X_test)\n",
    "\n",
    "# Avaliar o desempenho do modelo\n",
    "mse = mean_squared_error(y_test, previsoes)\n",
    "print(\"Erro médio quadrático:\", mse)\n"
   ]
  },
  {
   "cell_type": "code",
   "execution_count": null,
   "id": "94a3a3fe",
   "metadata": {},
   "outputs": [],
   "source": [
    "# Identificar características numéricas e categóricas\n",
    "caracteristicas_numericas = df.select_dtypes(include=['float', 'int']).columns\n",
    "caracteristicas_categoricas = df.select_dtypes(include=['object']).columns\n",
    "\n",
    "# Lidar com valores ausentes nas características numéricas\n",
    "df[caracteristicas_numericas] = df[caracteristicas_numericas].fillna(df[caracteristicas_numericas].mean())\n",
    "\n",
    "# Detectar e lidar com valores discrepantes nas características numéricas usando IQR\n",
    "for feature in caracteristicas_numericas:\n",
    "    Q1 = df[feature].quantile(0.25)\n",
    "    Q3 = df[feature].quantile(0.75)\n",
    "    IQR = Q3 - Q1\n",
    "    limite_inferior = Q1 - (1.5 * IQR)\n",
    "    limite_superior = Q3 + (1.5 * IQR)\n",
    "    df[feature] = np.where((df[feature] < limite_inferior) | (df[feature] > limite_superior),\n",
    "                           df[feature].mean(), df[feature])\n",
    "\n",
    "# Lidar com valores ausentes nas características categóricas\n",
    "df[caracteristicas_categoricas] = df[caracteristicas_categoricas].fillna(df[caracteristicas_categoricas].mode().iloc[0])\n",
    "\n",
    "# Exibir o DataFrame modificado\n",
    "df.head()\n"
   ]
  },
  {
   "cell_type": "code",
   "execution_count": null,
   "id": "379b7c67",
   "metadata": {},
   "outputs": [],
   "source": [
    "# Mapear os valores categóricos para valores numéricos\n",
    "tipo_veiculo_mapping = {'Economy': 0, 'Standard': 1, 'Premium': 2}\n",
    "\n",
    "# Aplicar o mapeamento à coluna 'Tipo_de_Veículo'\n",
    "df['Tipo_de_Veículo'] = df['Tipo_de_Veículo'].replace(tipo_veiculo_mapping)\n",
    "\n",
    "# Exibir o DataFrame modificado\n",
    "df\n"
   ]
  },
  {
   "cell_type": "code",
   "execution_count": null,
   "id": "04c56b2f",
   "metadata": {},
   "outputs": [],
   "source": [
    "df.columns"
   ]
  },
  {
   "cell_type": "code",
   "execution_count": null,
   "id": "1fe1987b",
   "metadata": {},
   "outputs": [],
   "source": [
    "from sklearn.model_selection import train_test_split\n",
    "from sklearn.ensemble import RandomForestRegressor\n",
    "import numpy as np\n",
    "\n",
    "# Separar os dados em variáveis de entrada (x) e variável de saída (y)\n",
    "x = np.array(df[[\"Número_de_Passageiros\", \"Número_de_Motoristas\", \"Tipo_de_Veículo\", \"Duração_Estimada_da_Viagem\"]])\n",
    "y = np.array(df[\"custo_viagem_ajustado\"])\n",
    "\n",
    "# Dividir os dados em conjuntos de treinamento e teste\n",
    "x_treino, x_teste, y_treino, y_teste = train_test_split(x,\n",
    "                                                        y,\n",
    "                                                        test_size=0.2,\n",
    "                                                        random_state=42)\n",
    "\n",
    "# Reformular y para um array 1D\n",
    "y_treino = y_treino.ravel()\n",
    "y_teste = y_teste.ravel()\n",
    "\n",
    "# Treinando um modelo de regressão de floresta aleatória\n",
    "modelo = RandomForestRegressor()\n",
    "modelo.fit(x_treino, y_treino)\n"
   ]
  },
  {
   "cell_type": "code",
   "execution_count": null,
   "id": "1d08f729",
   "metadata": {},
   "outputs": [],
   "source": [
    "vehicle_type_mapping = {\n",
    "    \"Premium\": 1,\n",
    "    \"Economy\": 0\n",
    "}\n",
    "\n",
    "def get_vehicle_type_numeric(vehicle_type):\n",
    "    vehicle_type_numeric = vehicle_type_mapping.get(vehicle_type)\n",
    "    return vehicle_type_numeric\n",
    "\n",
    "# Predizendo usando valores de entrada do usuário\n",
    "def prever_preco(numero_de_passageiros, numero_de_motoristas, tipo_de_veiculo, Duracao_Estimada_da_Viagem):\n",
    "    tipo_de_veiculo_numerico = get_vehicle_type_numeric(tipo_de_veiculo)\n",
    "    if tipo_de_veiculo_numerico is None:\n",
    "        raise ValueError(\"Tipo de veículo inválido\")\n",
    "    \n",
    "    dados_entrada = np.array([[numero_de_passageiros, numero_de_motoristas, tipo_de_veiculo_numerico, Duracao_Estimada_da_Viagem]])\n",
    "    preco_previsto = modelo.predict(dados_entrada)\n",
    "    return preco_previsto\n",
    "\n",
    "# Exemplo de previsão usando valores de entrada do usuário\n",
    "numero_de_passageiros_usuario = 50\n",
    "numero_de_motoristas_usuario = 25\n",
    "tipo_de_veiculo_usuario = \"Economy\"\n",
    "Duracao_Estimada_da_Viagem_usuario = 30\n",
    "preco_previsto = prever_preco(numero_de_passageiros_usuario, numero_de_motoristas_usuario, tipo_de_veiculo_usuario, Duracao_Estimada_da_Viagem_usuario)\n",
    "print(\"Preço previsto:\", preco_previsto)\n"
   ]
  },
  {
   "cell_type": "code",
   "execution_count": null,
   "id": "3f25eab0",
   "metadata": {},
   "outputs": [],
   "source": [
    "# Fazer previsões no conjunto de teste\n",
    "y_pred = modelo.predict(x_teste)\n",
    "\n",
    "# Criar um gráfico de dispersão com os valores reais vs. previstos\n",
    "fig = go.Figure()\n",
    "\n",
    "fig.add_trace(go.Scatter(\n",
    "    x=y_teste.flatten(),\n",
    "    y=y_pred,\n",
    "    mode='markers',\n",
    "    name='Real vs. Previsto'\n",
    "))\n",
    "\n",
    "# Adicionar uma linha representando o caso ideal\n",
    "fig.add_trace(go.Scatter(\n",
    "    x=[min(y_teste.flatten()), max(y_teste.flatten())],\n",
    "    y=[min(y_teste.flatten()), max(y_teste.flatten())],\n",
    "    mode='lines',\n",
    "    name='Ideal',\n",
    "    line=dict(color='red', dash='dash')\n",
    "))\n",
    "\n",
    "fig.update_layout(\n",
    "    title='Valores Reais vs. Previstos',\n",
    "    xaxis_title='Valores Reais',\n",
    "    yaxis_title='Valores Previstos',\n",
    "    showlegend=True,\n",
    ")\n",
    "\n",
    "fig.show()\n"
   ]
  },
  {
   "cell_type": "code",
   "execution_count": null,
   "id": "3e54f8c7",
   "metadata": {},
   "outputs": [],
   "source": []
  }
 ],
 "metadata": {
  "kernelspec": {
   "display_name": "Python 3 (ipykernel)",
   "language": "python",
   "name": "python3"
  },
  "language_info": {
   "codemirror_mode": {
    "name": "ipython",
    "version": 3
   },
   "file_extension": ".py",
   "mimetype": "text/x-python",
   "name": "python",
   "nbconvert_exporter": "python",
   "pygments_lexer": "ipython3",
   "version": "3.11.5"
  }
 },
 "nbformat": 4,
 "nbformat_minor": 5
}
